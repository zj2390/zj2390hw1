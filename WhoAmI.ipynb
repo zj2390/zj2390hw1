{
  "nbformat": 4,
  "nbformat_minor": 0,
  "metadata": {
    "colab": {
      "provenance": [],
      "authorship_tag": "ABX9TyPjcS8R1uUlLi1nGMXJreB7",
      "include_colab_link": true
    },
    "kernelspec": {
      "name": "python3",
      "display_name": "Python 3"
    },
    "language_info": {
      "name": "python"
    }
  },
  "cells": [
    {
      "cell_type": "markdown",
      "metadata": {
        "id": "view-in-github",
        "colab_type": "text"
      },
      "source": [
        "<a href=\"https://colab.research.google.com/github/zj2390/zj2390hw1/blob/main/WhoAmI.ipynb\" target=\"_parent\"><img src=\"https://colab.research.google.com/assets/colab-badge.svg\" alt=\"Open In Colab\"/></a>"
      ]
    },
    {
      "cell_type": "code",
      "execution_count": 6,
      "metadata": {
        "id": "8YT_BihsYatl",
        "colab": {
          "base_uri": "https://localhost:8080/"
        },
        "outputId": "74879483-885d-4516-aaa6-36e3ac989fda"
      },
      "outputs": [
        {
          "output_type": "stream",
          "name": "stdout",
          "text": [
            "zj2390\n"
          ]
        }
      ],
      "source": [
        "# Identify yourself for grading\n",
        "\n",
        "def WhoAmI():\n",
        "  return('zj2390')\n",
        "print(WhoAmI())\n"
      ]
    }
  ]
}